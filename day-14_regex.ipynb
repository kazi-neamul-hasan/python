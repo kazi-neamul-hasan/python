{
 "cells": [
  {
   "cell_type": "code",
   "execution_count": null,
   "metadata": {},
   "outputs": [],
   "source": [
    "import re"
   ]
  },
  {
   "cell_type": "code",
   "execution_count": null,
   "metadata": {},
   "outputs": [],
   "source": [
    "# compiling\n",
    "email = 'mail123@gmail.com89'\n",
    "#pattern = re.compile(r'\\w+@\\w+\\.com') # method 1\n",
    "#pattern = re.compile(r'[a-z0-9]+@[a-z]+\\.com') # method 2\n",
    "#pattern = re.compile(r'[a-z0-9]+@[a-z]+\\.\\w') # method 3\n",
    "#pattern = re.compile(r'[a-z0-9]+@[a-z]+\\.\\w{3}') # method 4\n",
    "#pattern = re.compile(r'[a-z0-9]+@[a-z]+\\.\\w{3}$') # method 5\n",
    "#pattern = re.compile(r'[a-z0-9]+@[a-z]+\\.\\w{3,5}') # method 6\n",
    "#pattern = re.compile(r'[a-z0-9]+@[a-z]+\\.\\w{3,5}$') # method 7\n",
    "pattern = re.compile(r'^m[a-z0-9]+@[a-z]+\\.\\w{3,5}$')\n",
    "pattern.match(email)"
   ]
  },
  {
   "cell_type": "code",
   "execution_count": null,
   "metadata": {},
   "outputs": [],
   "source": [
    "# direct match\n",
    "#re.match(r'^m[a-z0-9]+@[a-z]+\\.\\w{3,5}$', 'mail123@gmail.com') # method 1\n",
    "#re.match(r'^m\\w+@[a-z]+\\.\\w{3,5}$', 'mail123@gmail.com') # method 2\n",
    "re.match(r'^m\\w?@[a-z]+\\.\\w{3,5}$', 'ma@gmail.com') # method 3\n",
    "#re.match(r'\\w?@[a-z]+\\.\\w{3,5}$', 'ma@gmail.com') # method 4"
   ]
  },
  {
   "cell_type": "code",
   "execution_count": null,
   "metadata": {},
   "outputs": [],
   "source": [
    "# intern.hrv@hrventrue.bd\n",
    "#re.match(r'^[a-z]+\\.\\w+@\\w+\\.\\w{2}', 'intern.hrv@hrventrue.bd')\n",
    "# intern.hrv@hrventrue or gmail.bd\n",
    "#re.match(r'^[a-z]+\\.\\w+@\\(hrventure|gmail)\\.\\w{2}', 'intern.hrv@hrventrue.bd')\n"
   ]
  },
  {
   "cell_type": "code",
   "execution_count": null,
   "metadata": {},
   "outputs": [],
   "source": [
    "## +880-1680728542\n",
    "#re.match(r'^\\+(\\d\\d\\d)\\s(\\d{10})$', '+880 1680728542') # method 1\n",
    "#re.match(r'^\\+(\\d\\d\\d)\\s*(\\d{10})$', '+880 1680728542') # method 2\n",
    "#re.match(r'^\\+(\\d\\d\\d)\\s*(\\d{10})$', '+8801680728542').group() # method 3\n",
    "re.match(r'^\\+(\\d\\d\\d)\\s*(\\d{7,10})$', '+8801680728542') # method 4\n"
   ]
  },
  {
   "cell_type": "code",
   "execution_count": null,
   "metadata": {},
   "outputs": [],
   "source": [
    "re.match(r'^\\+(?P<code>\\d\\d\\d)\\s*(?P<number>\\d{7,10})$', '+880 1680728542').groupdict('code')"
   ]
  },
  {
   "cell_type": "code",
   "execution_count": 102,
   "metadata": {},
   "outputs": [],
   "source": [
    "data = 'find my correct email 1223mDffs@gmail.com mDffs@gmail.com and intern.hrv@gmail.bd and intern.hrv@hrventure.bd'\n",
    "re.search(r'^[a-z]+\\.\\w+@(hrventure|gmail)\\.\\w{2}', data)"
   ]
  },
  {
   "cell_type": "code",
   "execution_count": null,
   "metadata": {},
   "outputs": [],
   "source": [
    "re.findall(r'([a-z]+\\.\\w+@(hrventure|gmail)\\.\\w{2})', data)"
   ]
  },
  {
   "cell_type": "code",
   "execution_count": null,
   "metadata": {},
   "outputs": [],
   "source": [
    "it = re.finditer(r'([a-z]+\\.\\w+@(hrventure|gmail)\\.\\w{2})', data)"
   ]
  },
  {
   "cell_type": "code",
   "execution_count": null,
   "metadata": {},
   "outputs": [],
   "source": [
    "next(it)"
   ]
  },
  {
   "cell_type": "code",
   "execution_count": 103,
   "metadata": {},
   "outputs": [
    {
     "data": {
      "text/plain": [
       "'find my correct email 1223mDffs@gmail.com mDffs@gmail.com and intern.hrv@gmail.bd and intern.hrv@hrventure.bd'"
      ]
     },
     "execution_count": 103,
     "metadata": {},
     "output_type": "execute_result"
    }
   ],
   "source": [
    "re.sub(r'^[a-z]+\\.\\w+@(hrventure|gmail)\\.\\w{2}','@HRV', data)"
   ]
  },
  {
   "cell_type": "code",
   "execution_count": 107,
   "metadata": {},
   "outputs": [
    {
     "data": {
      "text/plain": [
       "['find my correct email 1223mDffs@gmail.com mDffs@gmail.com and intern.hrv@gmail.bd and intern.hrv@hrventure.bd']"
      ]
     },
     "execution_count": 107,
     "metadata": {},
     "output_type": "execute_result"
    }
   ],
   "source": [
    "re.split(r'^[a-z]+\\.\\w+@(hrventure|gmail)\\.\\w{2}', data, maxsplit=2)"
   ]
  }
 ],
 "metadata": {
  "interpreter": {
   "hash": "14a336a61cfaefff504b47e2b8e6e50961f0feafa7b211f8ff23081790c52144"
  },
  "kernelspec": {
   "display_name": "Python 3.9.7 64-bit",
   "language": "python",
   "name": "python3"
  },
  "language_info": {
   "codemirror_mode": {
    "name": "ipython",
    "version": 3
   },
   "file_extension": ".py",
   "mimetype": "text/x-python",
   "name": "python",
   "nbconvert_exporter": "python",
   "pygments_lexer": "ipython3",
   "version": "3.9.7"
  },
  "orig_nbformat": 4
 },
 "nbformat": 4,
 "nbformat_minor": 2
}
