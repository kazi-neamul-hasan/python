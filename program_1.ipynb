{
 "cells": [
  {
   "cell_type": "code",
   "execution_count": 16,
   "source": [
    "name = input(\"Enter your name:\")\r\n",
    "print(\"Greetings..!!\", name)\r\n"
   ],
   "outputs": [],
   "metadata": {}
  },
  {
   "cell_type": "code",
   "execution_count": 39,
   "source": [
    "##string\r\n",
    "name = \"rimon\"\r\n",
    "type(name)\r\n",
    "name + \"@\"\r\n",
    "name * 4\r\n",
    "##string functions\r\n",
    "name.upper()\r\n",
    "name.lower()\r\n",
    "name.capitalize()\r\n",
    "name.count(\"m\")\r\n",
    "name.split(\"m\")\r\n",
    "name.replace(\"o\",\"@\")\r\n",
    "print(name.upper(), name.lower(), name.capitalize())\r\n",
    "\r\n"
   ],
   "outputs": [
    {
     "output_type": "stream",
     "name": "stdout",
     "text": [
      "RIMON rimon Rimon\n"
     ]
    }
   ],
   "metadata": {}
  },
  {
   "cell_type": "code",
   "execution_count": 37,
   "source": [
    "##number\r\n",
    "#int\r\n",
    "age = 30\r\n",
    "type(age)\r\n",
    "#float\r\n",
    "weight = 65.5\r\n",
    "type(weight)\r\n",
    "are_u_married = True\r\n",
    "type(are_u_married)\r\n",
    "\r\n",
    "#complex\r\n",
    "unit = 2+3j\r\n",
    "type(unit)\r\n"
   ],
   "outputs": [
    {
     "output_type": "execute_result",
     "data": {
      "text/plain": [
       "complex"
      ]
     },
     "metadata": {},
     "execution_count": 37
    }
   ],
   "metadata": {}
  },
  {
   "cell_type": "code",
   "execution_count": 63,
   "source": [
    "#type conversion\r\n",
    "n = \"2\"\r\n",
    "type(n)\r\n",
    "print(n)\r\n",
    "\r\n",
    "#string to int\r\n",
    "#class prac\r\n",
    "new_n = int(n)\r\n",
    "type(new_n)\r\n",
    "print(new_n)\r\n",
    "\r\n",
    "#my prac???\r\n",
    "#int(n)\r\n",
    "\r\n",
    "#int to float\r\n",
    "new_n_f = float(new_n)\r\n",
    "type(new_n_f)\r\n",
    "print(new_n_f)\r\n",
    "\r\n",
    "#float to boolean\r\n",
    "new_n_f_b = bool(new_n_f)\r\n",
    "type(new_n_f_b)\r\n",
    "print(new_n_f_b)\r\n",
    "bool('')\r\n",
    "\r\n",
    "#boolean to complex\r\n",
    "new_n_f_b_c = complex(new_n_f_b)\r\n",
    "type(new_n_f_b_c)\r\n",
    "print(new_n_f_b_c)\r\n",
    "\r\n",
    "#complex to str\r\n",
    "#according to sir\r\n",
    "str(new_n_f_b_c)\r\n",
    "\r\n",
    "#my practice???\r\n",
    "#n1 = str(new_n_f_b_c)\r\n",
    "#type(n1)\r\n",
    "#print(n1)\r\n",
    "\r\n",
    "\r\n"
   ],
   "outputs": [
    {
     "output_type": "stream",
     "name": "stdout",
     "text": [
      "2\n",
      "2.0\n",
      "True\n",
      "(1+0j)\n"
     ]
    },
    {
     "output_type": "execute_result",
     "data": {
      "text/plain": [
       "'(1+0j)'"
      ]
     },
     "metadata": {},
     "execution_count": 63
    }
   ],
   "metadata": {}
  },
  {
   "cell_type": "code",
   "execution_count": 65,
   "source": [
    "int(n)\r\n",
    "type(n)"
   ],
   "outputs": [
    {
     "output_type": "execute_result",
     "data": {
      "text/plain": [
       "str"
      ]
     },
     "metadata": {},
     "execution_count": 65
    }
   ],
   "metadata": {}
  },
  {
   "cell_type": "code",
   "execution_count": 14,
   "source": [
    "##input always takes string. So conversion needed..!!\r\n",
    "name = input(\"Enter your name: \")\r\n",
    "age = int(input(\"Enter your age: \"))\r\n",
    "weight = float(input(\"enter your weight: \"))\r\n",
    "print(\"Your account creaed successfully\")\r\n",
    "type(age), type(weight)"
   ],
   "outputs": [
    {
     "output_type": "stream",
     "name": "stdout",
     "text": [
      "Your account creaed successfully\n"
     ]
    },
    {
     "output_type": "execute_result",
     "data": {
      "text/plain": [
       "(int, float)"
      ]
     },
     "metadata": {},
     "execution_count": 14
    }
   ],
   "metadata": {}
  },
  {
   "cell_type": "code",
   "execution_count": 12,
   "source": [
    "## How to use print function\r\n",
    "print(\"Hello\"+\" welcome!\"+ str(8))\r\n",
    "# book or author for single and double quota\r\n",
    "print('\"n+\" -Todd\\n Lamle',  end=\" \")\r\n",
    "print(\"\\twelcome\")"
   ],
   "outputs": [
    {
     "output_type": "stream",
     "name": "stdout",
     "text": [
      "Hello welcome!8\n",
      "\"n+\" -Todd\n",
      " Lamle \twelcome\n"
     ]
    }
   ],
   "metadata": {}
  },
  {
   "cell_type": "code",
   "execution_count": 43,
   "source": [
    "##string formating\r\n",
    "print('Your ccount successfully created', name, age, weight)\r\n",
    "#1\r\n",
    "print('{0} Your ccount {1} {2} successfully created'.format(name, age, weight))\r\n",
    "#2\r\n",
    "print('%s Your ccount %d %.1f successfully created' %(name, age, weight))\r\n",
    "\r\n",
    "#3\r\n",
    "print(f'{name} Your ccount {age} successfully {weight} created')\r\n",
    "#3 with operation\r\n",
    "print(f'{name} Your ccount {age+1} successfully {weight} created')"
   ],
   "outputs": [
    {
     "output_type": "stream",
     "name": "stdout",
     "text": [
      "Your ccount successfully created Rimon 35 65.5\n",
      "Rimon Your ccount 35 65.5 successfully created\n",
      "Rimon Your ccount 35 65.5 successfully created\n",
      "Rimon Your ccount 35 successfully 65.5 created\n",
      "Rimon Your ccount 36 successfully 65.5 created\n"
     ]
    }
   ],
   "metadata": {}
  },
  {
   "cell_type": "code",
   "execution_count": null,
   "source": [],
   "outputs": [],
   "metadata": {}
  }
 ],
 "metadata": {
  "orig_nbformat": 4,
  "language_info": {
   "name": "python",
   "version": "3.9.7",
   "mimetype": "text/x-python",
   "codemirror_mode": {
    "name": "ipython",
    "version": 3
   },
   "pygments_lexer": "ipython3",
   "nbconvert_exporter": "python",
   "file_extension": ".py"
  },
  "kernelspec": {
   "name": "python3",
   "display_name": "Python 3.9.7 64-bit"
  },
  "interpreter": {
   "hash": "14a336a61cfaefff504b47e2b8e6e50961f0feafa7b211f8ff23081790c52144"
  }
 },
 "nbformat": 4,
 "nbformat_minor": 2
}