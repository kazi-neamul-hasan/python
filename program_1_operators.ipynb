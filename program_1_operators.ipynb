{
 "cells": [
  {
   "cell_type": "code",
   "execution_count": 1,
   "source": [
    "##operators\r\n",
    "#arithmatic\r\n",
    "4 + 5\r\n",
    "4 - 2\r\n",
    "4 * 2\r\n",
    "5 / 2\r\n",
    "5 //2 #If we do not want showing fraction.\r\n",
    "5 % 2 # remainder\r\n",
    "2 ** 2 # 2 to the power 2\r\n",
    "2 ** 3 # 2 to the power 3"
   ],
   "outputs": [
    {
     "output_type": "execute_result",
     "data": {
      "text/plain": [
       "8"
      ]
     },
     "metadata": {},
     "execution_count": 1
    }
   ],
   "metadata": {}
  },
  {
   "cell_type": "code",
   "execution_count": 2,
   "source": [
    "##comparison operators used for compare some values\r\n",
    "2 == 2\r\n",
    "3 == 2\r\n",
    "2 != 3\r\n",
    "2 != 2\r\n",
    "\r\n",
    "2 > 3\r\n",
    "3 > 2\r\n",
    "2 <= 3\r\n",
    "3 <= 2\r\n"
   ],
   "outputs": [
    {
     "output_type": "execute_result",
     "data": {
      "text/plain": [
       "False"
      ]
     },
     "metadata": {},
     "execution_count": 2
    }
   ],
   "metadata": {}
  },
  {
   "cell_type": "code",
   "execution_count": 31,
   "source": [
    "##logical operator\r\n",
    "#and\r\n",
    "True and True\r\n",
    "True and False\r\n",
    "False and True\r\n",
    "False and False\r\n",
    "\r\n",
    "#or\r\n",
    "True or True\r\n",
    "True or False\r\n",
    "False or True\r\n",
    "False or False\r\n",
    "\r\n",
    "#not\r\n",
    "not False\r\n",
    "not True"
   ],
   "outputs": [
    {
     "output_type": "execute_result",
     "data": {
      "text/plain": [
       "False"
      ]
     },
     "metadata": {},
     "execution_count": 31
    }
   ],
   "metadata": {}
  },
  {
   "cell_type": "code",
   "execution_count": 3,
   "source": [
    "##bitwise operator (It does not work on numerical value, it works on bit by bit operation)\r\n",
    "#and\r\n",
    "#p = 8 4 2 1\r\n",
    "#5 = 0 1 0 1\r\n",
    "#2 = 0 0 1 0\r\n",
    "#0 = 0 0 0 0 # result\r\n",
    "5 & 2 # symbole of and is '&'\r\n",
    "\r\n",
    "#or\r\n",
    "#p = 8 4 2 1\r\n",
    "#5 = 0 1 0 1\r\n",
    "#2 = 0 0 1 0\r\n",
    "#0 = 0 0 0 0 # result\r\n",
    "5 | 2 # symbole of or is '|'\r\n",
    "\r\n",
    "#not operator\r\n",
    "~ 5\r\n",
    "\r\n",
    "#xor (exclusive or) operator.  different value results in 1 and same results in 0\r\n",
    "#p = 8 4 2 1\r\n",
    "#5 = 0 1 0 1\r\n",
    "#2 = 0 0 1 0\r\n",
    "#7 = 0 1 1 1 # result\r\n",
    "5 ^ 2\r\n",
    "\r\n",
    "##shift operator(left shift)\r\n",
    "#p = 8 4 2 1\r\n",
    "#7 = 0 1 1 1\r\n",
    "#1 = 0 0 0 1\r\n",
    "#7 = 1 1 1 0 # result\r\n",
    "7 << 1 # 1 means 1 bit has shifted left and right will be filled up with 0.\r\n",
    "\r\n",
    "##shift operator(Right shift)\r\n",
    "#p = 8 4 2 1\r\n",
    "#7 = 0 1 1 1\r\n",
    "#1 = 0 0 0 1\r\n",
    "#7 = 0 0 0 1 # result\r\n",
    "7 >> 2 # 2 means 2 bit has shifted right and left will be filled up with 0.\r\n",
    "\r\n",
    "#assignment operator\r\n",
    "num = 3\r\n",
    "num\r\n",
    "num += 2\r\n",
    "num\r\n",
    "num -= 2\r\n",
    "num *= 3\r\n",
    "num **= 2\r\n",
    "num /= 9\r\n",
    "num //= 2\r\n",
    "num # It will show float result but it should integer. It shows flaot due to dividing before by 2.\r\n",
    "\r\n",
    "num = 9\r\n",
    "num //= 2 # Now it is showing integer number, not floating number.\r\n",
    "num\r\n",
    "\r\n",
    "# special operator\r\n",
    "'o' in 'Rimon'\r\n",
    "'o' not in 'Rimon'\r\n",
    "\r\n",
    "a = 2\r\n",
    "b = 2.0\r\n",
    "a == b\r\n",
    "a is b\r\n"
   ],
   "outputs": [
    {
     "output_type": "execute_result",
     "data": {
      "text/plain": [
       "False"
      ]
     },
     "metadata": {},
     "execution_count": 3
    }
   ],
   "metadata": {}
  },
  {
   "cell_type": "code",
   "execution_count": 66,
   "source": [],
   "outputs": [
    {
     "output_type": "execute_result",
     "data": {
      "text/plain": [
       "27"
      ]
     },
     "metadata": {},
     "execution_count": 66
    }
   ],
   "metadata": {}
  }
 ],
 "metadata": {
  "orig_nbformat": 4,
  "language_info": {
   "name": "python",
   "version": "3.9.7",
   "mimetype": "text/x-python",
   "codemirror_mode": {
    "name": "ipython",
    "version": 3
   },
   "pygments_lexer": "ipython3",
   "nbconvert_exporter": "python",
   "file_extension": ".py"
  },
  "kernelspec": {
   "name": "python3",
   "display_name": "Python 3.9.7 64-bit"
  },
  "interpreter": {
   "hash": "14a336a61cfaefff504b47e2b8e6e50961f0feafa7b211f8ff23081790c52144"
  }
 },
 "nbformat": 4,
 "nbformat_minor": 2
}