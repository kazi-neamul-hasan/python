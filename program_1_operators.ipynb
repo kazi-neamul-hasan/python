{
 "cells": [
  {
   "cell_type": "code",
   "execution_count": 1,
   "metadata": {},
   "outputs": [
    {
     "data": {
      "text/plain": [
       "8"
      ]
     },
     "execution_count": 1,
     "metadata": {},
     "output_type": "execute_result"
    }
   ],
   "source": [
    "##operators\n",
    "#arithmatic\n",
    "4 + 5\n",
    "4 - 2\n",
    "4 * 2\n",
    "5 / 2\n",
    "5 //2 #If we do not want showing fraction.\n",
    "5 % 2 # remainder\n",
    "2 ** 2 # 2 to the power 2\n",
    "2 ** 3 # 2 to the power 3"
   ]
  },
  {
   "cell_type": "code",
   "execution_count": 2,
   "metadata": {},
   "outputs": [
    {
     "data": {
      "text/plain": [
       "False"
      ]
     },
     "execution_count": 2,
     "metadata": {},
     "output_type": "execute_result"
    }
   ],
   "source": [
    "##comparison operators used for compare some values\n",
    "2 == 2\n",
    "3 == 2\n",
    "2 != 3\n",
    "2 != 2\n",
    "\n",
    "2 > 3\n",
    "3 > 2\n",
    "2 <= 3\n",
    "3 <= 2\n"
   ]
  },
  {
   "cell_type": "code",
   "execution_count": 31,
   "metadata": {},
   "outputs": [
    {
     "data": {
      "text/plain": [
       "False"
      ]
     },
     "execution_count": 31,
     "metadata": {},
     "output_type": "execute_result"
    }
   ],
   "source": [
    "##logical operator\n",
    "#and\n",
    "True and True\n",
    "True and False\n",
    "False and True\n",
    "False and False\n",
    "\n",
    "#or\n",
    "True or True\n",
    "True or False\n",
    "False or True\n",
    "False or False\n",
    "\n",
    "#not\n",
    "not False\n",
    "not True"
   ]
  },
  {
   "cell_type": "code",
   "execution_count": 3,
   "metadata": {},
   "outputs": [
    {
     "data": {
      "text/plain": [
       "False"
      ]
     },
     "execution_count": 3,
     "metadata": {},
     "output_type": "execute_result"
    }
   ],
   "source": [
    "##bitwise operator (It does not work on numerical value, it works on bit by bit operation)\n",
    "#and\n",
    "#p = 8 4 2 1\n",
    "#5 = 0 1 0 1\n",
    "#2 = 0 0 1 0\n",
    "#0 = 0 0 0 0 # result\n",
    "5 & 2 # symbole of and is '&'\n",
    "\n",
    "#or\n",
    "#p = 8 4 2 1\n",
    "#5 = 0 1 0 1\n",
    "#2 = 0 0 1 0\n",
    "#0 = 0 0 0 0 # result\n",
    "5 | 2 # symbole of or is '|'\n",
    "\n",
    "#not operator\n",
    "~ 5\n",
    "\n",
    "#xor (exclusive or) operator.  different value results in 1 and same results in 0\n",
    "#p = 8 4 2 1\n",
    "#5 = 0 1 0 1\n",
    "#2 = 0 0 1 0\n",
    "#7 = 0 1 1 1 # result\n",
    "5 ^ 2\n",
    "\n",
    "##shift operator(left shift)\n",
    "#p = 8 4 2 1\n",
    "#7 = 0 1 1 1\n",
    "#1 = 0 0 0 1\n",
    "#7 = 1 1 1 0 # result\n",
    "7 << 1 # 1 means 1 bit has shifted left and right will be filled up with 0.\n",
    "\n",
    "##shift operator(Right shift)\n",
    "#p = 8 4 2 1\n",
    "#7 = 0 1 1 1\n",
    "#1 = 0 0 0 1\n",
    "#7 = 0 0 0 1 # result\n",
    "7 >> 2 # 2 means 2 bit has shifted right and left will be filled up with 0.\n",
    "\n",
    "#assignment operator\n",
    "num = 3\n",
    "num\n",
    "num += 2\n",
    "num\n",
    "num -= 2\n",
    "num *= 3\n",
    "num **= 2\n",
    "num /= 9\n",
    "num //= 2\n",
    "num # It will show float result but it should integer. It shows flaot due to dividing before by 2.\n",
    "\n",
    "num = 9\n",
    "num //= 2 # Now it is showing integer number, not floating number.\n",
    "num\n",
    "\n",
    "# special operator\n",
    "'o' in 'Rimon'\n",
    "'o' not in 'Rimon'\n",
    "\n",
    "a = 2\n",
    "b = 2.0\n",
    "a == b\n",
    "a is b\n"
   ]
  },
  {
   "cell_type": "code",
   "execution_count": 3,
   "metadata": {},
   "outputs": [
    {
     "data": {
      "text/plain": [
       "1"
      ]
     },
     "execution_count": 3,
     "metadata": {},
     "output_type": "execute_result"
    }
   ],
   "source": [
    "num = 3\n",
    "num\n",
    "num -= 2\n",
    "num"
   ]
  },
  {
   "cell_type": "code",
   "execution_count": null,
   "metadata": {},
   "outputs": [],
   "source": []
  }
 ],
 "metadata": {
  "interpreter": {
   "hash": "14a336a61cfaefff504b47e2b8e6e50961f0feafa7b211f8ff23081790c52144"
  },
  "kernelspec": {
   "display_name": "Python 3.9.7 64-bit",
   "name": "python3"
  },
  "language_info": {
   "codemirror_mode": {
    "name": "ipython",
    "version": 3
   },
   "file_extension": ".py",
   "mimetype": "text/x-python",
   "name": "python",
   "nbconvert_exporter": "python",
   "pygments_lexer": "ipython3",
   "version": "3.9.7"
  },
  "orig_nbformat": 4
 },
 "nbformat": 4,
 "nbformat_minor": 2
}
