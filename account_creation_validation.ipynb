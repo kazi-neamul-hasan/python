{
 "cells": [
  {
   "cell_type": "code",
   "execution_count": null,
   "metadata": {},
   "outputs": [],
   "source": [
    "## Task 8\n",
    "## Online Banking\n",
    "## Account- Creation, close, pin change\n",
    "## Transaction- Deposit, Withdraw, Transfer"
   ]
  },
  {
   "cell_type": "code",
   "execution_count": 1,
   "metadata": {},
   "outputs": [],
   "source": [
    "database = {}\n",
    "initial_acc = 10000\n"
   ]
  },
  {
   "cell_type": "code",
   "execution_count": 2,
   "metadata": {},
   "outputs": [],
   "source": [
    "import re\n",
    "class Account:\n",
    "    def __init__(self, name:str, age:int, gender:str, ph:str, email:str) -> None:\n",
    "        self.name = name\n",
    "        self.age = age\n",
    "        self.gender = gender\n",
    "        self.ph = ph\n",
    "        self.email = email\n",
    "        self.acc_no = None\n",
    "        self.password = None\n",
    "        self.balance = 0.0\n",
    "\n",
    "    def validate(self):\n",
    "        namevalid = True if (self.name.replace(' ', '').isalpha()) and (len(self.name) <50) and (len(self.name)>4) else False\n",
    "        agevalid = True if self.age>12 and self.age<70 else False\n",
    "        gendervalid = True if self.gender.lower() in ['male', 'female'] else False\n",
    "        phvalid = True if re.match(r'^\\+\\d{3}(\\d{7,10})$', self.ph) else False\n",
    "        emailvalid = True if re.match(r'^[a-z]+\\w*@\\w+\\.com$', self.email) else False\n",
    "        return all([namevalid, agevalid, gendervalid, phvalid, emailvalid])\n",
    "\n",
    "    def create(self):\n",
    "        if self.acc_no:\n",
    "            return \"Account Already Exists\"\n",
    "        if self.validate():\n",
    "            global database\n",
    "            global initial_acc\n",
    "            initial_acc += 1\n",
    "            self.acc_no = initial_acc\n",
    "            self.password = self.name[:4]+self.ph[-4:]\n",
    "            database[initial_acc] = self # The object itself of class(Account) passess to the database\n",
    "            return self.acc_no\n",
    "        else:\n",
    "            return \"Invalid Information\"\n",
    "        \n",
    "    def deposit(self, amount:float):\n",
    "        #global database\n",
    "        #database[self.acc_no].balance += amount\n",
    "        self.balance += amount\n",
    "        return f\"Available Balance: {self.balance}\"\n",
    "    \n",
    "    def withdraw(self, amount:float, password:str):\n",
    "        if self.balance < amount:\n",
    "            return(False, 'Insufficient Amount')\n",
    "        if password != self.password:\n",
    "            return(False,'Password not correct')\n",
    "        self.balance -= amount\n",
    "        return(True, f\"Available Balance: {self.balance}\")\n",
    "\n",
    "    def transfer(self, amount:float, password:str, to_acc:int):\n",
    "        global database\n",
    "        if not database.get(to_acc):\n",
    "            return f'Account not Found, {to_acc}'\n",
    "        if self.withdraw(amount, password)[0]:\n",
    "            database[to_acc].balance += amount\n",
    "            return(True, f'Available Balance: {self.balance}')\n",
    "        else:\n",
    "            return self.withdraw(amount, password)\n",
    "    \n",
    "           \n",
    "        "
   ]
  },
  {
   "cell_type": "code",
   "execution_count": null,
   "metadata": {},
   "outputs": [],
   "source": [
    "## Valid the code\"\n",
    "#'jdsdfd1'.isalpha() # It will take lower case whatever the case the users input\n",
    "#re.match(r'^\\+\\d{3}(\\d{7,10})$', '+8801831035498')\n",
    "#re.match(r'^[a-z]+\\w*@\\w+\\.com$', 'hrv123@gmail.com')\n",
    "#all([True, True, False]) # returns false if any value is false\n",
    "#any([True, False, False]) # return true if any value is true\n"
   ]
  },
  {
   "cell_type": "code",
   "execution_count": 125,
   "metadata": {},
   "outputs": [
    {
     "data": {
      "text/plain": [
       "10001"
      ]
     },
     "execution_count": 125,
     "metadata": {},
     "output_type": "execute_result"
    }
   ],
   "source": [
    "## Creating objects for account:\n",
    "john = Account('john Smith', 25, 'Male', '+8801831035498', 'hrv123@gmail.com')\n",
    "#john.validate()\n",
    "john.create()\n"
   ]
  },
  {
   "cell_type": "code",
   "execution_count": 3,
   "metadata": {},
   "outputs": [
    {
     "data": {
      "text/plain": [
       "10001"
      ]
     },
     "execution_count": 3,
     "metadata": {},
     "output_type": "execute_result"
    }
   ],
   "source": [
    "alexa = Account('Alexa Smith', 24, 'female', '+8801831035498', 'alexa@gmail.com')\n",
    "alexa.validate()\n",
    "alexa.create()"
   ]
  },
  {
   "cell_type": "code",
   "execution_count": 129,
   "metadata": {},
   "outputs": [
    {
     "data": {
      "text/plain": [
       "'Available Balance: 20000.0'"
      ]
     },
     "execution_count": 129,
     "metadata": {},
     "output_type": "execute_result"
    }
   ],
   "source": [
    "john.deposit(10000)"
   ]
  },
  {
   "cell_type": "code",
   "execution_count": 132,
   "metadata": {},
   "outputs": [
    {
     "data": {
      "text/plain": [
       "(10000.0, 10000.0)"
      ]
     },
     "execution_count": 132,
     "metadata": {},
     "output_type": "execute_result"
    }
   ],
   "source": [
    "#database[10001].name\n",
    "#database[10001].password\n",
    "database[10001].balance, database[10002].balance\n"
   ]
  },
  {
   "cell_type": "code",
   "execution_count": 111,
   "metadata": {},
   "outputs": [
    {
     "data": {
      "text/plain": [
       "('john5498', 'Alex5498')"
      ]
     },
     "execution_count": 111,
     "metadata": {},
     "output_type": "execute_result"
    }
   ],
   "source": [
    "#john.deposit(10000)\n",
    "#database[10001].balance\n",
    "john.password, alexa.password"
   ]
  },
  {
   "cell_type": "code",
   "execution_count": 131,
   "metadata": {},
   "outputs": [
    {
     "data": {
      "text/plain": [
       "(True, 'Available Balance: 10000.0')"
      ]
     },
     "execution_count": 131,
     "metadata": {},
     "output_type": "execute_result"
    }
   ],
   "source": [
    "john.transfer(10000, 'john5498', 10002)"
   ]
  },
  {
   "cell_type": "code",
   "execution_count": 133,
   "metadata": {},
   "outputs": [],
   "source": [
    "\n"
   ]
  }
 ],
 "metadata": {
  "interpreter": {
   "hash": "14a336a61cfaefff504b47e2b8e6e50961f0feafa7b211f8ff23081790c52144"
  },
  "kernelspec": {
   "display_name": "Python 3.9.7 64-bit",
   "language": "python",
   "name": "python3"
  },
  "language_info": {
   "codemirror_mode": {
    "name": "ipython",
    "version": 3
   },
   "file_extension": ".py",
   "mimetype": "text/x-python",
   "name": "python",
   "nbconvert_exporter": "python",
   "pygments_lexer": "ipython3",
   "version": "3.9.7"
  },
  "orig_nbformat": 4
 },
 "nbformat": 4,
 "nbformat_minor": 2
}
