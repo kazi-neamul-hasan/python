{
 "cells": [
  {
   "cell_type": "code",
   "execution_count": null,
   "metadata": {},
   "outputs": [],
   "source": [
    "## Recursion 1\n",
    "# Recursion it results with calculation. That is why it does not need increment\n",
    "# Recursion is a function what calls itself. It is efficient than for/while loop due to not need increment\n",
    "\n",
    "def recur(n):\n",
    "    if n==1:\n",
    "        return 1\n",
    "    else:\n",
    "        return n+recur(n-1)\n",
    "print(recur(10))\n",
    "\n",
    "\n"
   ]
  },
  {
   "cell_type": "code",
   "execution_count": null,
   "metadata": {},
   "outputs": [],
   "source": [
    "## Recursion 2\n",
    "def p(num):\n",
    "    if num==1:\n",
    "        return 1\n",
    "    else:\n",
    "        return num + p(num-1)\n",
    "print(p(5))"
   ]
  },
  {
   "cell_type": "code",
   "execution_count": null,
   "metadata": {},
   "outputs": [],
   "source": [
    "## Recursion 3\n",
    "\n",
    "def recur3(num):\n",
    "    if num==1:\n",
    "        return 1\n",
    "    else:\n",
    "        return num + recur3(num-1)\n",
    "print(recur3(5))"
   ]
  },
  {
   "cell_type": "code",
   "execution_count": null,
   "metadata": {},
   "outputs": [],
   "source": [
    "## Generator: Python provides a generator to create your own iterator function. A generator is a special type of function which does not return a single value, instead, it returns an iterator object with a sequence of values.\n",
    "## In a generator function, a yield statement is used rather than a return statement. The following is a simple generator function.\n",
    "## Generatior 1 (append the list from 1 to 4)\n",
    "## Once the generator's function code reaches a \"yield\" statement, the generator yields its execution back to the for loop, returning a new value from the set. The generator function can generate as many values (possibly infinite) as it wants, yielding each one in its turn.\n",
    "\n",
    "def g(low, up):\n",
    "    vals = []\n",
    "    while low != up:\n",
    "        vals.append(low)\n",
    "        low += 1\n",
    "    return vals\n",
    "g(1, 5)"
   ]
  },
  {
   "cell_type": "code",
   "execution_count": 5,
   "metadata": {},
   "outputs": [],
   "source": [
    "## Generator 2: append the list with even number.\n",
    "\n",
    "def g(low, up):\n",
    "    vals = []\n",
    "    while up%2 ==1:\n",
    "        vals.append(low)\n",
    "        low += 1\n",
    "        yield vals\n",
    "n = g(1, 11)"
   ]
  },
  {
   "cell_type": "code",
   "execution_count": 10,
   "metadata": {},
   "outputs": [
    {
     "data": {
      "text/plain": [
       "[1, 2, 3, 4, 5]"
      ]
     },
     "execution_count": 10,
     "metadata": {},
     "output_type": "execute_result"
    }
   ],
   "source": [
    "next(n)"
   ]
  },
  {
   "cell_type": "code",
   "execution_count": null,
   "metadata": {},
   "outputs": [],
   "source": [
    "## Generator with yield 1\n",
    "# Once the generator's function code reaches a \"yield\" statement, the generator yields its execution back to the for loop, returning a new value from the set. The generator function can generate as many values (possibly infinite) as it wants, yielding each one in its turn.\n",
    "\n",
    "def g3(low, up):\n",
    "    while low != up:\n",
    "        yield low, 'Pause'\n",
    "        print('Resuming... From Pause')\n",
    "        low += 1\n",
    "values = g3(1,9) # we will get object not values. If we use next function, we can get values.\n"
   ]
  },
  {
   "cell_type": "code",
   "execution_count": null,
   "metadata": {},
   "outputs": [],
   "source": [
    "next(values)"
   ]
  },
  {
   "cell_type": "code",
   "execution_count": null,
   "metadata": {},
   "outputs": [],
   "source": [
    "## Generator with yield 2: sizing with set of series.\n",
    "def g4(low, up):\n",
    "    while low != up:\n",
    "        yield low, low+1, low+2, 'Pause'\n",
    "        print('Resuming... From Pause')\n",
    "        low += 3\n",
    "values2 = g4(1,9)"
   ]
  },
  {
   "cell_type": "code",
   "execution_count": null,
   "metadata": {},
   "outputs": [],
   "source": [
    "next(values2)"
   ]
  },
  {
   "cell_type": "code",
   "execution_count": null,
   "metadata": {},
   "outputs": [],
   "source": [
    "def p(num):\n",
    "    if num==1:\n",
    "        return 1\n",
    "    else:\n",
    "        yield num + p(num-1)\n",
    "reslut = (p(5))"
   ]
  },
  {
   "cell_type": "code",
   "execution_count": null,
   "metadata": {},
   "outputs": [],
   "source": [
    "next(reslut)"
   ]
  }
 ],
 "metadata": {
  "interpreter": {
   "hash": "14a336a61cfaefff504b47e2b8e6e50961f0feafa7b211f8ff23081790c52144"
  },
  "kernelspec": {
   "display_name": "Python 3.9.7 64-bit",
   "name": "python3"
  },
  "language_info": {
   "codemirror_mode": {
    "name": "ipython",
    "version": 3
   },
   "file_extension": ".py",
   "mimetype": "text/x-python",
   "name": "python",
   "nbconvert_exporter": "python",
   "pygments_lexer": "ipython3",
   "version": "3.9.7"
  },
  "orig_nbformat": 4
 },
 "nbformat": 4,
 "nbformat_minor": 2
}
