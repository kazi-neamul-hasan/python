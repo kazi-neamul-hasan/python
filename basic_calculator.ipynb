{
 "cells": [
  {
   "cell_type": "code",
   "execution_count": null,
   "source": [
    "print(\"Select an operation to perform :\")\r\n",
    "print(\"1. ADD\")\r\n",
    "print(\"2. SUBTRACT\")\r\n",
    "print(\"3. MULTIPLY\")\r\n",
    "print(\"4. DIVIDE\")\r\n",
    "\r\n",
    "select = input(\"Select what you perform: \")\r\n",
    "\r\n",
    "num1 = int(input(\"Enter a number 1: \"))\r\n",
    "num2 = int(input(\"Enter a number 2 : \"))"
   ],
   "outputs": [],
   "metadata": {}
  },
  {
   "cell_type": "code",
   "execution_count": 29,
   "source": [
    "## ADD\r\n",
    "select == 1\r\n",
    "print(\"The sum is:\", num1, \"+\", num2, \"=\" ,num1+num2)"
   ],
   "outputs": [
    {
     "output_type": "stream",
     "name": "stdout",
     "text": [
      "The sum is: 3 + 2 = 5\n"
     ]
    }
   ],
   "metadata": {}
  },
  {
   "cell_type": "code",
   "execution_count": 30,
   "source": [
    "##SUBTRACT\r\n",
    "select == 2\r\n",
    "print(\"The sum is:\", num1, \"-\", num2, \"=\" ,num1-num2)"
   ],
   "outputs": [
    {
     "output_type": "stream",
     "name": "stdout",
     "text": [
      "The sum is: 3 - 2 = 1\n"
     ]
    }
   ],
   "metadata": {}
  },
  {
   "cell_type": "code",
   "execution_count": 31,
   "source": [
    "#MULTIPLY\r\n",
    "select == 3\r\n",
    "print(\"The sum is:\", num1, \"*\", num2, \"=\" ,num1*num2)"
   ],
   "outputs": [
    {
     "output_type": "stream",
     "name": "stdout",
     "text": [
      "The sum is: 3 * 2 = 6\n"
     ]
    }
   ],
   "metadata": {}
  },
  {
   "cell_type": "code",
   "execution_count": 32,
   "source": [
    "#DIVIDE\r\n",
    "select == 4\r\n",
    "print(\"The sum is:\", num1, \"/\", num2, \"=\" ,num1/num2)"
   ],
   "outputs": [
    {
     "output_type": "stream",
     "name": "stdout",
     "text": [
      "The sum is: 3 / 2 = 1.5\n"
     ]
    }
   ],
   "metadata": {}
  },
  {
   "cell_type": "code",
   "execution_count": null,
   "source": [
    "if select == \"1\":\r\n",
    "    print(\"The sum i)"
   ],
   "outputs": [],
   "metadata": {}
  }
 ],
 "metadata": {
  "orig_nbformat": 4,
  "language_info": {
   "name": "python",
   "version": "3.9.7",
   "mimetype": "text/x-python",
   "codemirror_mode": {
    "name": "ipython",
    "version": 3
   },
   "pygments_lexer": "ipython3",
   "nbconvert_exporter": "python",
   "file_extension": ".py"
  },
  "kernelspec": {
   "name": "python3",
   "display_name": "Python 3.9.7 64-bit"
  },
  "interpreter": {
   "hash": "14a336a61cfaefff504b47e2b8e6e50961f0feafa7b211f8ff23081790c52144"
  }
 },
 "nbformat": 4,
 "nbformat_minor": 2
}