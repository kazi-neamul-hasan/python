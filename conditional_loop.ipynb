{
 "cells": [
  {
   "cell_type": "code",
   "execution_count": null,
   "metadata": {},
   "outputs": [],
   "source": [
    "#simple way or as usual of if statement\n",
    "age = 17\n",
    "salary = 50000\n",
    "if age  >= 18:\n",
    "    if salary >= 40000:\n",
    "        print('Eligible for credit card')\n",
    "    else:\n",
    "        print('Eligible for debit card')\n",
    "else:\n",
    "    print('Eligible for green card')\n",
    "\n"
   ]
  },
  {
   "cell_type": "code",
   "execution_count": null,
   "metadata": {},
   "outputs": [],
   "source": [
    "# another way for condition if statement with multiple condition\n",
    "age = 18\n",
    "salary = 60000\n",
    "city = 'Dhaka'\n",
    "if (age >=18) and (salary >= 60000) and city == 'Dhaka':\n",
    "    print('Eligible for credit card')\n",
    "elif (age >=18) and (salary >= 40000) and city == 'Other':\n",
    "    print('Eligible for credit card due to out of Dhaka')\n",
    "elif salary >= 5000:\n",
    "    print('Eligible for green card')\n",
    "else:\n",
    "    print('Your application totally dicarded')"
   ]
  },
  {
   "cell_type": "code",
   "execution_count": null,
   "metadata": {},
   "outputs": [],
   "source": [
    "## while as usual usage\n",
    "low = 1\n",
    "up = 5\n",
    "while low <= 5:\n",
    "    print(low)\n",
    "    low += 1\n",
    "print('***Command Success***')"
   ]
  },
  {
   "cell_type": "code",
   "execution_count": null,
   "metadata": {},
   "outputs": [],
   "source": [
    "## while as usual another type\n",
    "# find out even number\n",
    "low = 0\n",
    "up = 5\n",
    "while low <= 5:\n",
    "    if low%2 == 0:\n",
    "        print(low)\n",
    "    low += 1\n"
   ]
  },
  {
   "cell_type": "code",
   "execution_count": null,
   "metadata": {},
   "outputs": [],
   "source": [
    "## Using break to get out from the loop.\n",
    "low = 1\n",
    "up = 5\n",
    "while low <= 5:\n",
    "    print(low)\n",
    "    if low == 3:\n",
    "        print('Breaking...')\n",
    "        break\n",
    "    low += 1"
   ]
  },
  {
   "cell_type": "code",
   "execution_count": null,
   "metadata": {},
   "outputs": [],
   "source": [
    "# Using break for the unlimited loop.\n",
    "low = 1\n",
    "up = 5\n",
    "while True:\n",
    "    print(low)\n",
    "    if low == 5:\n",
    "        print('Breaking...')\n",
    "        break\n",
    "    low += 1"
   ]
  },
  {
   "cell_type": "code",
   "execution_count": null,
   "metadata": {},
   "outputs": [],
   "source": [
    "# Continue means skipping\n",
    "low = 0\n",
    "up = 5\n",
    "\n",
    "while low <= 5:\n",
    "    low += 1\n",
    "    if low <=3:\n",
    "        print('Skipping...')\n",
    "        continue\n",
    "    print(low)"
   ]
  },
  {
   "cell_type": "code",
   "execution_count": 108,
   "metadata": {},
   "outputs": [
    {
     "data": {
      "text/plain": [
       "(1, 3, 5)"
      ]
     },
     "execution_count": 108,
     "metadata": {},
     "output_type": "execute_result"
    }
   ],
   "source": [
    "## range\n",
    "low, up = 1,5\n",
    "tuple(range(1,6,2))"
   ]
  },
  {
   "cell_type": "code",
   "execution_count": 1,
   "metadata": {},
   "outputs": [
    {
     "name": "stdout",
     "output_type": "stream",
     "text": [
      "1\n",
      "2\n",
      "3\n"
     ]
    }
   ],
   "source": [
    "## for loop\n",
    "for num in range(1,6):  # variable num stores first 1 then print and thus it stores 2,3,4 and 5 and print accordingly.\n",
    "    print(num)\n",
    "    if num == 3:\n",
    "        break\n",
    "\n"
   ]
  },
  {
   "cell_type": "code",
   "execution_count": null,
   "metadata": {},
   "outputs": [],
   "source": [
    "for num in range(1,6,2):\n",
    "    print(num)"
   ]
  },
  {
   "cell_type": "code",
   "execution_count": null,
   "metadata": {},
   "outputs": [],
   "source": [
    "for num in range(5,0,-1):\n",
    "    print(num)"
   ]
  },
  {
   "cell_type": "code",
   "execution_count": 110,
   "metadata": {},
   "outputs": [
    {
     "name": "stdout",
     "output_type": "stream",
     "text": [
      "n\n",
      "o\n",
      "m\n",
      "i\n",
      "r\n"
     ]
    }
   ],
   "source": [
    "# for loop on string:\n",
    "for c in 'rimon'[::-1]:\n",
    "    print(c)"
   ]
  },
  {
   "cell_type": "code",
   "execution_count": null,
   "metadata": {},
   "outputs": [],
   "source": []
  }
 ],
 "metadata": {
  "interpreter": {
   "hash": "14a336a61cfaefff504b47e2b8e6e50961f0feafa7b211f8ff23081790c52144"
  },
  "kernelspec": {
   "display_name": "Python 3.9.7 64-bit",
   "name": "python3"
  },
  "language_info": {
   "codemirror_mode": {
    "name": "ipython",
    "version": 3
   },
   "file_extension": ".py",
   "mimetype": "text/x-python",
   "name": "python",
   "nbconvert_exporter": "python",
   "pygments_lexer": "ipython3",
   "version": "3.9.7"
  },
  "orig_nbformat": 4
 },
 "nbformat": 4,
 "nbformat_minor": 2
}
