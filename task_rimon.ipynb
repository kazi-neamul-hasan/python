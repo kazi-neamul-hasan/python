{
 "cells": [
  {
   "cell_type": "code",
   "execution_count": null,
   "metadata": {},
   "outputs": [],
   "source": [
    "## Task-1: Basic_Calculator\n",
    "\n",
    "num1 = int(input(\"Enter a number 1: \"))\n",
    "num2 = int(input(\"Enter a number 2 : \"))\n",
    "print(\"The sum is:\", num1, \"+\", num2, \"=\" ,num1+num2)\n",
    "print(\"The sum is:\", num1, \"+\", num2, \"=\" ,num1-num2)\n",
    "print(\"The sum is:\", num1, \"+\", num2, \"=\" ,num1*num2)\n",
    "print(\"The sum is:\", num1, \"+\", num2, \"=\" ,num1/num2)\n",
    "print(\"The sum is:\", num1, \"+\", num2, \"=\" ,num1//num2)\n",
    "print(\"The sum is:\", num1, \"+\", num2, \"=\" ,num1%num2)"
   ]
  },
  {
   "cell_type": "code",
   "execution_count": null,
   "metadata": {},
   "outputs": [],
   "source": [
    "## Task-2: Grading_System:\n",
    "\n",
    "# input from user for score:\n",
    "num1 = int(input('Enter the marks for MATH: '))\n",
    "num2 = int(input('Enter the marks for ICT: '))\n",
    "num3 = int(input('Enter the marks for ENG: '))\n",
    "avg = (num1 + num2 + num3)//3\n",
    "\n",
    "# Calculate average:\n",
    "print(\"The average marks is: \", avg)\n",
    "\n",
    "# Grade:\n",
    "if (avg >= 90) and (avg <=100):\n",
    "    print('Your grade is: AA. ' + 'Remarks: EXECELLENT...!!!')\n",
    "elif (avg >= 80) and (avg <=89):\n",
    "    print('Your grade is: A+. ' + 'Remarks: VERY GOOD..!!')\n",
    "elif (avg >= 60) and (avg <=79):\n",
    "    print('Your grade is: A. ' + 'Remarks: GOOD.!')\n",
    "elif (avg >= 45) and (avg <=59):\n",
    "    print('Your grade is: B. ' + 'Remarks: AVERAGE')\n",
    "elif (avg >= 30) and (avg <=44):\n",
    "    print('Your grade is: C. ' + 'Remarks: POOR')\n",
    "else:\n",
    "    print('Your grade is F. ' + 'Remarks: FAIL')\n",
    "\n"
   ]
  },
  {
   "cell_type": "code",
   "execution_count": null,
   "metadata": {},
   "outputs": [],
   "source": [
    "## sorting array in ASC and DSC:\n",
    "arr = [3,5,7,2,3,5,9,4]\n",
    "s = sorted(arr) # ASC\n",
    "print(s)\n",
    "sr = s.reverse() # DSC\n",
    "s\n",
    "type(s)\n",
    "\n"
   ]
  },
  {
   "cell_type": "code",
   "execution_count": null,
   "metadata": {},
   "outputs": [],
   "source": [
    "## sorting array in ASC and DSC:\n",
    "arr = [3,5,7,2,3,5,9,4]\n",
    "for element in range(len(arr)):\n",
    "     print(arr[element])\n"
   ]
  },
  {
   "cell_type": "code",
   "execution_count": 2,
   "metadata": {},
   "outputs": [
    {
     "name": "stdout",
     "output_type": "stream",
     "text": [
      "password is incorrect, Try Again\n",
      "password is incorrect, Try Again\n",
      "Door is Opening>>\n"
     ]
    }
   ],
   "source": [
    "## SMART DOOR: \n",
    "\n",
    "# Declare a variable for password\n",
    "originalpassword = 'P@'\n",
    "maxtry = 0\n",
    "\n",
    "\n",
    "\n",
    "# statements\n",
    "while True:\n",
    "    x = input('Enter Password for Unlock')\n",
    "    maxtry +=1\n",
    "    if x == p:\n",
    "        print('Door is Opening>>')\n",
    "        break\n",
    "    else:\n",
    "        print('password is incorrect, Try Again')\n",
    "        if maxtry >= 3:\n",
    "            print('Giving password limit exceeded')\n",
    "            break\n"
   ]
  },
  {
   "cell_type": "code",
   "execution_count": 6,
   "metadata": {},
   "outputs": [
    {
     "name": "stdout",
     "output_type": "stream",
     "text": [
      "password is incorrect, Try Again\n",
      "password is incorrect, Try Again\n",
      "password is incorrect, Try Again\n",
      "Door LOcked, waity 5 Seconds\n",
      "Door is Opening>>\n"
     ]
    }
   ],
   "source": [
    "import time\n",
    "maxtry = 0\n",
    "while True:\n",
    "    password = input('Enter Password for Unlock')\n",
    "    maxtry += 1\n",
    "    if password == originalpassword:\n",
    "        print('Door is Opening>>')\n",
    "        break\n",
    "    else:\n",
    "        print('password is incorrect, Try Again')\n",
    "        if maxtry == 3:\n",
    "            print('Door LOcked, waity 5 Seconds')\n",
    "            time.sleep(5)"
   ]
  }
 ],
 "metadata": {
  "interpreter": {
   "hash": "14a336a61cfaefff504b47e2b8e6e50961f0feafa7b211f8ff23081790c52144"
  },
  "kernelspec": {
   "display_name": "Python 3.9.7 64-bit",
   "name": "python3"
  },
  "language_info": {
   "codemirror_mode": {
    "name": "ipython",
    "version": 3
   },
   "file_extension": ".py",
   "mimetype": "text/x-python",
   "name": "python",
   "nbconvert_exporter": "python",
   "pygments_lexer": "ipython3",
   "version": "3.9.7"
  },
  "orig_nbformat": 4
 },
 "nbformat": 4,
 "nbformat_minor": 2
}
