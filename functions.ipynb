{
 "cells": [
  {
   "cell_type": "code",
   "execution_count": null,
   "metadata": {},
   "outputs": [],
   "source": [
    "# Definition\n",
    "def greet(): # this is the header section of function\n",
    "    print('Good morning..!!') # this is the body section of the function\n",
    "# calling function\n",
    "greet()# this is the footer section of the function. We call the function with the name."
   ]
  },
  {
   "cell_type": "code",
   "execution_count": 1,
   "metadata": {},
   "outputs": [
    {
     "data": {
      "text/plain": [
       "7"
      ]
     },
     "execution_count": 1,
     "metadata": {},
     "output_type": "execute_result"
    }
   ],
   "source": [
    "# function with return value\n",
    "def add():\n",
    "    a = 2+3\n",
    "    return a # we can add additional functionality with return but not print\n",
    "add()\n",
    "add()+2 # adding to with return function"
   ]
  },
  {
   "cell_type": "code",
   "execution_count": 1,
   "metadata": {},
   "outputs": [
    {
     "name": "stdout",
     "output_type": "stream",
     "text": [
      "25\n"
     ]
    }
   ],
   "source": [
    "# Function with argues:\n",
    "def add(num1, num2): #funcution name is add. parameter/arguments are num1 and num2.\n",
    "    a = (num1 + num2)\n",
    "    print(a)\n",
    "add(12, 13)\n"
   ]
  },
  {
   "cell_type": "code",
   "execution_count": null,
   "metadata": {},
   "outputs": [],
   "source": [
    "# function with dynamic args (arbitary arguments):\n",
    "def add(*nums):\n",
    "    print(nums)\n",
    "    return None\n",
    "add(1,2,3,4,5)\n"
   ]
  },
  {
   "cell_type": "code",
   "execution_count": null,
   "metadata": {},
   "outputs": [],
   "source": [
    "# function with dynamic args:\n",
    "def add(*nums):\n",
    "    s = 0\n",
    "    for num in nums:\n",
    "        s += num\n",
    "    return s\n",
    "add(1,2,3,4,5,6,7,8,9)"
   ]
  },
  {
   "cell_type": "code",
   "execution_count": null,
   "metadata": {},
   "outputs": [],
   "source": [
    "# keyword arguments:\n",
    "def create_account(email, password, is_gmail=True):\n",
    "    print(email,password,is_gmail)\n",
    "    print('Your account created..!!')\n",
    "create_account('ss@gmail.com', 'Siso', is_gmail=False)\n"
   ]
  },
  {
   "cell_type": "code",
   "execution_count": null,
   "metadata": {},
   "outputs": [],
   "source": [
    "# keyword dynamic arguemnts(keyword arbitory arguments) :\n",
    "def create_account(**kwargs):\n",
    "    print(kwargs)\n",
    "    print('Your account is created')\n",
    "create_account(email = 'daodo@gmail.com', password = 'djoso')# no need for order due to keyword arguments."
   ]
  },
  {
   "cell_type": "code",
   "execution_count": null,
   "metadata": {},
   "outputs": [],
   "source": [
    "# keyword dynamic arguemnts(keyword arbitory arguments) with for loops :\n",
    "def create_account(**kwargs):\n",
    "    #print(kwargs)\n",
    "    print('Your account is created')\n",
    "    for key, val in kwargs.items():\n",
    "        print(key, ':', val)\n",
    "create_account(email = 'daodo@gmail.com', password = 'djoso')"
   ]
  },
  {
   "cell_type": "code",
   "execution_count": null,
   "metadata": {},
   "outputs": [],
   "source": [
    "# keyword dynamic arguemnts(keyword arbitory arguments) with for loops :\n",
    "def create_account(is_gmail=False, **kwargs):\n",
    "    print(kwargs)\n",
    "    print('Your account is created')\n",
    "    for key, val in kwargs.items():\n",
    "        print(key, ':', val)\n",
    "create_account(email = 'daodo@gmail.com', password = 'djoso', is_gmail=True)\n",
    "#NB: always put dynamic arguments to the last."
   ]
  },
  {
   "cell_type": "code",
   "execution_count": null,
   "metadata": {},
   "outputs": [],
   "source": [
    "# special function(1):\n",
    "def is_even(num):\n",
    "    if num%2 == 0:\n",
    "        print('True')\n",
    "    else:\n",
    "        print(False)\n",
    "is_even(1929202)"
   ]
  },
  {
   "cell_type": "code",
   "execution_count": null,
   "metadata": {},
   "outputs": [],
   "source": [
    "# special function(2):\n",
    "def is_even(num):\n",
    "    if num%2 == 0:\n",
    "        return True\n",
    "    else:\n",
    "        return False\n",
    "is_even(11)"
   ]
  },
  {
   "cell_type": "code",
   "execution_count": null,
   "metadata": {},
   "outputs": [],
   "source": [
    "# Lambda Function(annonymous function)\n",
    "# var = lambda num: num+1\n",
    "inc1 = lambda num: num+1\n",
    "inc1(4)\n",
    "\n"
   ]
  },
  {
   "cell_type": "code",
   "execution_count": null,
   "metadata": {},
   "outputs": [],
   "source": [
    "# special function(3):\n",
    "def is_even(num):\n",
    "    if num%2 == 0:\n",
    "        return True\n",
    "    return False\n",
    "is_even(110)"
   ]
  },
  {
   "cell_type": "code",
   "execution_count": null,
   "metadata": {},
   "outputs": [],
   "source": [
    "# lambda(2)\n",
    "is_even = lambda num: True if num%2==0 else False\n",
    "is_even(7)\n",
    " "
   ]
  },
  {
   "cell_type": "code",
   "execution_count": null,
   "metadata": {},
   "outputs": [],
   "source": [
    " #lambda(3)\n",
    "is_odd = lambda num: True if num%2!=0 else False\n",
    "is_odd(7)"
   ]
  },
  {
   "cell_type": "code",
   "execution_count": null,
   "metadata": {},
   "outputs": [],
   "source": [
    "# Lambda function with map (for multiple values):\n",
    "# map function is used to pass multiple values in labmbda function.\n",
    "# Map takes two arguments. First is function and then some values.\n",
    "\n",
    "s_even = lambda num: True if num%2==0 else False\n",
    "tuple(map(s_even, (2,3,4,5,6,7,8,9)))"
   ]
  },
  {
   "cell_type": "code",
   "execution_count": null,
   "metadata": {},
   "outputs": [],
   "source": [
    "# map-2\n",
    "s_even = lambda num: True if num%2==0 else False\n",
    "list(map(s_even, [2,3,4,5,6,7,8,9]))"
   ]
  },
  {
   "cell_type": "code",
   "execution_count": null,
   "metadata": {},
   "outputs": [],
   "source": [
    "# filter if we want only show the even numbers or what we want:\n",
    "# map store values.\n",
    "s_even = lambda num: True if num%2==0 else False\n",
    "list(filter(s_even, [2,3,4,5,6,7,8,9]))"
   ]
  },
  {
   "cell_type": "code",
   "execution_count": null,
   "metadata": {},
   "outputs": [],
   "source": [
    "# filter with even and odd\n",
    "s_even = lambda num: True if num%2==0 else False\n",
    "list(filter(s_even, [2,3,4,5,6,7,8,9])), list(filter(is_odd, [2,3,4,5,6,7,8,9,]))\n"
   ]
  },
  {
   "cell_type": "code",
   "execution_count": null,
   "metadata": {},
   "outputs": [],
   "source": [
    "# List comprehension with if: When we use if in list comprehension, we use if infront of the function\n",
    "nums = [1,2,3,4,5,6,7,8,9]\n",
    "evens = [num for num in nums if num%2==0]\n",
    "evens\n"
   ]
  },
  {
   "cell_type": "code",
   "execution_count": null,
   "metadata": {},
   "outputs": [],
   "source": [
    "# List comprehension with if else: When we use if else in list comprehension, we use it last of the function\n",
    "nums = [1,2,3,4,5,6,7,8,9]\n",
    "evens = [True if num%2==0 else False for num in nums]\n",
    "evens"
   ]
  },
  {
   "cell_type": "code",
   "execution_count": null,
   "metadata": {},
   "outputs": [],
   "source": [
    "#List comprehension\n",
    "# list with range\n",
    "nums = [num for num in range(10)]\n",
    "print(nums)\n",
    "# list with even\n",
    "evens = [num for num in nums if num%2==0]\n",
    "print(evens)"
   ]
  },
  {
   "cell_type": "code",
   "execution_count": 2,
   "metadata": {},
   "outputs": [
    {
     "data": {
      "text/plain": [
       "[2, 4, 6, 8]"
      ]
     },
     "execution_count": 2,
     "metadata": {},
     "output_type": "execute_result"
    }
   ],
   "source": [
    "#List comprehension with lambda and list\n",
    "nums = lambda low, up: [num for num in range(low,up) if num%2==0]\n",
    "nums(1,10)\n"
   ]
  },
  {
   "cell_type": "code",
   "execution_count": 4,
   "metadata": {},
   "outputs": [
    {
     "name": "stdout",
     "output_type": "stream",
     "text": [
      "[True, False, True, False, True, False, True, False]\n"
     ]
    }
   ],
   "source": [
    "#List comprehension with lambda and tuple\n",
    "nums = [2,3,4,5,6,7,8,9]\n",
    "evens = [True if num%2==0 else False for num in nums]\n",
    "print(list(evens))\n"
   ]
  },
  {
   "cell_type": "code",
   "execution_count": null,
   "metadata": {},
   "outputs": [],
   "source": [
    "#List comprehension with multi dimension data\n",
    "ndim = [\n",
    "    [1,2,3],\n",
    "    [4,5,6],\n",
    "    [7,8,9]\n",
    "]\n",
    "new = [num+1 for nums in ndim for num in nums]\n",
    "print(new)\n"
   ]
  },
  {
   "cell_type": "code",
   "execution_count": null,
   "metadata": {},
   "outputs": [],
   "source": [
    "for row in ndim:\n",
    "    for col in row:\n",
    "        print(col)"
   ]
  },
  {
   "cell_type": "code",
   "execution_count": 3,
   "metadata": {},
   "outputs": [],
   "source": [
    "xdim = [\n",
    "    [1,2,3],\n",
    "    [4,5,6],\n",
    "    [7,8,9]\n",
    "]\n",
    "\n",
    "ydim = [\n",
    "    [1,2,3],\n",
    "    [4,5,6],\n",
    "    [7,8,9]\n",
    "]\n",
    "\n"
   ]
  }
 ],
 "metadata": {
  "interpreter": {
   "hash": "14a336a61cfaefff504b47e2b8e6e50961f0feafa7b211f8ff23081790c52144"
  },
  "kernelspec": {
   "display_name": "Python 3.9.7 64-bit",
   "name": "python3"
  },
  "language_info": {
   "codemirror_mode": {
    "name": "ipython",
    "version": 3
   },
   "file_extension": ".py",
   "mimetype": "text/x-python",
   "name": "python",
   "nbconvert_exporter": "python",
   "pygments_lexer": "ipython3",
   "version": "3.9.7"
  },
  "orig_nbformat": 4
 },
 "nbformat": 4,
 "nbformat_minor": 2
}
