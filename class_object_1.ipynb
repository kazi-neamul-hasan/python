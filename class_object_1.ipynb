{
 "cells": [
  {
   "cell_type": "code",
   "execution_count": null,
   "metadata": {},
   "outputs": [],
   "source": [
    "## class: Blueprint of a object\n",
    "# There are major three section of a class: a) Global/class features or class variables b) Constructor c) Behaviour\n",
    "# Object consists Two elements mainly. One is properties or features (variables), another is behaviours or methods\n",
    "# Method is one kind of function. But while using in class, it is called methods\n",
    "\n",
    "class Human:\n",
    "    # Features or class variables: Class features or variables are any kind of features or information as if everything is common for this class\n",
    "\n",
    "    hands = 2\n",
    "    eyes = 2\n",
    "    # ph = '+8801831035498'\n",
    "    # Restricting to access the class variables or features\n",
    "    __ph = '+8801831035498' # Use '__' to restric accessing the class variables\n",
    "    # Constructor; base stage\n",
    "    def __init__(self, name):\n",
    "        self.name = name # Initialize variable\n",
    "        print('Initialized..!!')\n",
    "\n",
    "    # Behaviours or method: Method is one kind of function. But while using in class, it is called methods\n",
    "\n",
    "    def speaking(self):\n",
    "        return f'{self.name} Speaking...!!'\n",
    "\n",
    "    def getEyes(self):\n",
    "        #return self.eyes\n",
    "        #return __class__.eyes\n",
    "        self.__ph\n",
    "\n",
    "    @property   # using decorator for easily access to the class variable\n",
    "    def ph(self):\n",
    "        print('Accessing')\n",
    "        return self.__ph\n",
    "    @ph.setter  # To update the class variable \n",
    "    def ph(self, val):\n",
    "        print('Udpating ph..')\n",
    "        self.__ph = val\n",
    "\n",
    "    @ph.deleter # To delete the class variable \n",
    "    def ph(self):\n",
    "        print('Deleting ph..')\n",
    "        del self.__ph\n",
    "    \n",
    "    @classmethod\n",
    "    def greet(cls):\n",
    "        print('Greetings')\n",
    "    @staticmethod\n",
    "    def stat():\n",
    "        return True\n"
   ]
  },
  {
   "cell_type": "code",
   "execution_count": null,
   "metadata": {},
   "outputs": [],
   "source": [
    "# Object Creation\n",
    "john = Human('john smith')\n",
    "# accessing featurs or variables\n",
    "john.name, john.hands, #john.eyes\n",
    "# Accessing behaviours or methods \n",
    "john.speaking() #,john.getEyes()\n",
    "#john.ph\n",
    "#john.__ph # not work due to having restricted access to the class variables\n",
    "john.getPH()\n",
    "# Updating variables (Through directly)\n",
    "john.name = 'j'\n",
    "john.name\n",
    "john.eyes = 1 # Chagne the class variable from 2 to 1\n",
    "john.eyes, john.getEyes() # class variable changing succeeded\n",
    "john.greet()\n",
    "Human('name').greet()\n"
   ]
  },
  {
   "cell_type": "code",
   "execution_count": null,
   "metadata": {},
   "outputs": [],
   "source": [
    "# Object Creation\n",
    "alexa = Human('john smith')\n",
    "# accessing featurs or variables\n",
    "alexa.name, alexa.hands, alexa.eyes\n",
    "# Accessing behaviours or methods \n",
    "alexa.speaking(),alexa.getEyes()\n",
    "# alexa.ph"
   ]
  },
  {
   "cell_type": "markdown",
   "metadata": {},
   "source": [
    "## Features\n",
    "* Encapsulation\n",
    "* Abstraction\n",
    "* Inheritance\n",
    "* "
   ]
  },
  {
   "cell_type": "code",
   "execution_count": null,
   "metadata": {},
   "outputs": [],
   "source": [
    "## Inheritance-1:\n",
    "# Single inheritance: One class uses another class.\n",
    "\n",
    "class male(Human): # Example of Hierarchicle class tree\n",
    "    __gender = 'male'\n",
    "\n",
    "    def __init__(self, name:str, age:int):\n",
    "        super().__init__(name)  # Super class(Human) of male which we inherit the constractor of the inherit class\n",
    "        self.age = age\n",
    "\n",
    "\n",
    "    def getGender(self):\n",
    "        return f\"{__class__.__gender}\"\n",
    "\n",
    "class Female(Human): # Example of Hierarchicle class tree\n",
    "    __gender = 'Female'\n",
    "\n",
    "    def getGender(self):\n",
    "        return f\"{__class__.__gender}\"\n",
    "        \n",
    "\n",
    "john = male('john', 24)\n",
    "john.getEyes()\n",
    "john.greet()\n",
    "john.getGender()\n",
    "    \n",
    "8"
   ]
  },
  {
   "cell_type": "code",
   "execution_count": null,
   "metadata": {},
   "outputs": [],
   "source": []
  },
  {
   "cell_type": "code",
   "execution_count": null,
   "metadata": {},
   "outputs": [],
   "source": [
    "# Object Creation\n",
    "\n",
    "alexa = Human(alexa)\n",
    "alexa.ph = 45\n",
    "del alexa.ph\n",
    "Human.stat()"
   ]
  },
  {
   "cell_type": "code",
   "execution_count": null,
   "metadata": {},
   "outputs": [],
   "source": [
    "# Multiple inheritance\n",
    "class child(male, Female):\n",
    "    def __init__(self, name:str, age:int, birthY:int):\n",
    "        #super().__init_(name, age)\n",
    "        self.name = name    \n",
    "        self.age = age\n",
    "        self.birthY = birthY\n",
    "\n",
    "    def getGender(self):\n",
    "        #return f\"{__class__.__gender}\"\n",
    "        "
   ]
  },
  {
   "cell_type": "code",
   "execution_count": null,
   "metadata": {},
   "outputs": [],
   "source": [
    "johny = child('Johny', 1, 2021)\n",
    "johny.getGender()"
   ]
  },
  {
   "cell_type": "code",
   "execution_count": null,
   "metadata": {},
   "outputs": [],
   "source": [
    "# Polymorphism\n",
    "# Compile time and Runtime Poly\n",
    "# Compile time: When we do different compiled language, type matters during compilation, and we will call depnends on differents call. But we do not because python all code in runtime\n",
    "  \n",
    "# Runtime polymorphism\n",
    "def add(a, b):\n",
    "    return a+b\n",
    "\n",
    "def add(a, b, c):\n",
    "    return a+b+c # Overloading or overriding above the function.\n",
    "\n",
    "add(2,3,5 )"
   ]
  },
  {
   "cell_type": "code",
   "execution_count": null,
   "metadata": {},
   "outputs": [],
   "source": [
    "# compile time\n",
    "\n",
    "def add(a, b, c=0):\n",
    "    return a+b+c\n",
    "add(2,3,7)"
   ]
  },
  {
   "cell_type": "code",
   "execution_count": null,
   "metadata": {},
   "outputs": [],
   "source": [
    "# Object oriented run time polymorphism\n",
    "\n",
    "class Add2Num:\n",
    "    def __init__(self, num1, num2):\n",
    "        self.num1 = num1\n",
    "        self.num2 = num2\n",
    "\n",
    "    def Sum(self):\n",
    "        return self.num1 + self.num2\n",
    "    \n",
    "class Add3Num(Add2Num):\n",
    "    def __init__(self, num1, num2, num3):\n",
    "            super().__init__(num1, num2)\n",
    "            self.num3 = num3\n",
    "\n",
    "    def Sum(self):\n",
    "        return self.num1 + self.num2 +self.num3\n",
    "            \n",
    "\n"
   ]
  },
  {
   "cell_type": "code",
   "execution_count": null,
   "metadata": {},
   "outputs": [],
   "source": [
    "obj = Add2Num(2, 3 ,2)\n",
    "obj.Sum() "
   ]
  },
  {
   "cell_type": "code",
   "execution_count": null,
   "metadata": {},
   "outputs": [],
   "source": [
    "class Facebook_Account:\n",
    "    def __init__(self, name:str, age:int):\n",
    "        self.name = name\n",
    "        self.age = age\n",
    "\n",
    "    # Special function\n",
    "    def __gt__(self, other):\n",
    "        return self.age > other.age \n",
    "    def __eq__(self, other):\n",
    "        return (self.name == other.name) and (self.age == other.age)\n",
    "\n",
    "    def __add__(self, other):\n",
    "        return self.age + other.age\n",
    "\n",
    "    @classmethod\n",
    "    def Facebook_Account(cls, info:str): #[If data needed to split]\n",
    "        info = info.split('-')\n",
    "        return cls(info[0], int(info[1]))\n",
    "\n",
    "\n"
   ]
  },
  {
   "cell_type": "code",
   "execution_count": null,
   "metadata": {},
   "outputs": [],
   "source": [
    "rimon = Facebook_Account('Mr Rimon', 30 )\n",
    "safin = Facebook_Account('Mr Safin', 22)\n",
    "rimon > safin, rimon == safin, rimon + safin"
   ]
  },
  {
   "cell_type": "code",
   "execution_count": 13,
   "metadata": {},
   "outputs": [
    {
     "data": {
      "text/plain": [
       "<__main__.Facebook_Account at 0x19d10e7e880>"
      ]
     },
     "execution_count": 13,
     "metadata": {},
     "output_type": "execute_result"
    }
   ],
   "source": [
    "obj = Facebook_Account.Facebook_Account('MD Rimon - 18')\n",
    "obj\n"
   ]
  },
  {
   "cell_type": "code",
   "execution_count": 14,
   "metadata": {},
   "outputs": [
    {
     "data": {
      "text/plain": [
       "('MD Rimon ', 18)"
      ]
     },
     "execution_count": 14,
     "metadata": {},
     "output_type": "execute_result"
    }
   ],
   "source": [
    "obj.name, obj.age"
   ]
  }
 ],
 "metadata": {
  "interpreter": {
   "hash": "14a336a61cfaefff504b47e2b8e6e50961f0feafa7b211f8ff23081790c52144"
  },
  "kernelspec": {
   "display_name": "Python 3.9.7 64-bit",
   "name": "python3"
  },
  "language_info": {
   "codemirror_mode": {
    "name": "ipython",
    "version": 3
   },
   "file_extension": ".py",
   "mimetype": "text/x-python",
   "name": "python",
   "nbconvert_exporter": "python",
   "pygments_lexer": "ipython3",
   "version": "3.9.7"
  },
  "orig_nbformat": 4
 },
 "nbformat": 4,
 "nbformat_minor": 2
}
