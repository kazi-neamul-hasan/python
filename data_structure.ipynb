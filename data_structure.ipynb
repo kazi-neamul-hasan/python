{
 "cells": [
  {
   "cell_type": "code",
   "execution_count": 1,
   "metadata": {},
   "outputs": [
    {
     "data": {
      "text/plain": [
       "[2, 3, 4, 5, 6, 6, 7, 7, 8, 8, 9, 9, 11, 25, 99]"
      ]
     },
     "execution_count": 1,
     "metadata": {},
     "output_type": "execute_result"
    }
   ],
   "source": [
    "# data structure\n",
    "## List[] data structure\n",
    "rolls = [1,3,5,6,2,4, 'student', True]\n",
    "rolls\n",
    "\n",
    "# accessing data\n",
    "rolls[2]\n",
    "len(rolls)\n",
    "rolls[3:6]\n",
    "rolls[-8]\n",
    "rolls[7]\n",
    "\n",
    "# slicing of nums[start:end:step]\n",
    "nums = [2,3,4,5,6,7,8,9]\n",
    "nums[::3]\n",
    "nums[::-3]\n",
    "'python'[2]\n",
    "'python'[::-1]\n",
    "p = 'python'\n",
    "p[::-1]\n",
    "\n",
    "# update\n",
    "nums[3] = 11 ## index no 3, I mean 5 will be replaced with 11\n",
    "nums\n",
    "len(nums)\n",
    "\n",
    "# functions\n",
    "nums.append(25)\n",
    "#nums.append([1,2,3])\n",
    "nums.insert(5,99)\n",
    "nums.extend([5,6,7])\n",
    "nums + [7,8,9]\n",
    "nums = nums + [7,8,9]\n",
    "nums\n",
    "nums.index(99)\n",
    "nums[5]\n",
    "nums\n",
    "nums.remove(7)\n",
    "len(nums)\n",
    "nums.count(7)\n",
    "nums.sort(reverse=True)\n",
    "nums.reverse() #or nums.sort(reverse=False)\n",
    "nums\n"
   ]
  },
  {
   "cell_type": "code",
   "execution_count": 67,
   "metadata": {},
   "outputs": [
    {
     "data": {
      "text/plain": [
       "(2, 3, 4, 5, 6, 7, 7, 8, 8, 9)"
      ]
     },
     "execution_count": 67,
     "metadata": {},
     "output_type": "execute_result"
    }
   ],
   "source": [
    "## Tuple() data structure\n",
    "nums = (2, 3, 4, 5, 6, 7, 7, 8, 8, 9)\n",
    "nums = tuple(nums)\n",
    "nums[::-1]\n",
    "#nums[]2] = 7 # we cannot modify\n",
    "nums\n",
    "#del nums [2] # we cannot modify"
   ]
  },
  {
   "cell_type": "code",
   "execution_count": 77,
   "metadata": {},
   "outputs": [
    {
     "data": {
      "text/plain": [
       "{1, 2, 3, 4, 5}"
      ]
     },
     "execution_count": 77,
     "metadata": {},
     "output_type": "execute_result"
    }
   ],
   "source": [
    "## Set {} data structure\n",
    "s = {1, 2, 4, 3, 5}\n",
    "#s.add(10)\n",
    "s\n",
    "#s[2] # indexing not performed\n",
    "#s.clear() # used to clear the value within the set\n",
    "\n"
   ]
  },
  {
   "cell_type": "code",
   "execution_count": 117,
   "metadata": {},
   "outputs": [
    {
     "data": {
      "text/plain": [
       "False"
      ]
     },
     "execution_count": 117,
     "metadata": {},
     "output_type": "execute_result"
    }
   ],
   "source": [
    "s1 = {1, 2, 4, 3, 5}\n",
    "s2 = {4, 5, 8, 9, 10}\n",
    "s1.difference(s2) # show uncommon what are not in s1\n",
    "s2.difference(s1) # show uncommon what are not in s2\n",
    "s1.union(s2)\n",
    "s2.union(s1)\n",
    "s1.intersection(s2)\n",
    "s1\n",
    "s1.pop()\n",
    "s1\n",
    "#s1.update({23, 44, 48})\n",
    "#s1.difference_update(s2)\n",
    "s1\n",
    "s2\n",
    "#s1.difference(s2)\n",
    "s1.symmetric_difference(s2)\n",
    "s1.symmetric_difference_update(s2)\n",
    "s1\n",
    "s1.discard(10)\n",
    "s1\n",
    "s1.issubset(s2)\n",
    "s2.issubset(s1)\n",
    "{1,2,3,4}.issuperset({3,4})\n",
    "{1,2,3,4}.issuperset({3,4,7})\n",
    "{3,4}.issubset({1,2,3,4})\n",
    "{3,4}.issubset({1,2,4,5})\n"
   ]
  },
  {
   "cell_type": "code",
   "execution_count": 2,
   "metadata": {},
   "outputs": [
    {
     "name": "stdout",
     "output_type": "stream",
     "text": [
      "30\n"
     ]
    },
    {
     "data": {
      "text/plain": [
       "{2: 'stud2', 'avgage': 30, 3: 'stud3', 5: 'D'}"
      ]
     },
     "execution_count": 2,
     "metadata": {},
     "output_type": "execute_result"
    }
   ],
   "source": [
    "# Dictionary data stracture\n",
    "d ={1: 'stud1', 2:'stud2', 'avgage':25}\n",
    "d\n",
    "type(d)\n",
    "d.keys(), d.values()\n",
    "d.items()\n",
    "d[2]\n",
    "d['avgage'] = 30\n",
    "d\n",
    "d['avgage']\n",
    "d.get('avgagess') # could not the error, get function handle the error\n",
    "print(d.get('avgage'))\n",
    "#print(d.get('avgagesss')) # It shows none dut to error handling\n",
    "d.pop(1)\n",
    "d\n",
    "# adding new key:value\n",
    "d[3] = 'stud3'\n",
    "d\n",
    "d.update({4.5:'stud4'}) # same as d[3] = 'stud3'\n",
    "d\n",
    "d.update({4.5:[1,2,3]}) # we can ad  value as list\n",
    "d\n",
    "d.popitem() # delete the last key:value\n",
    "d\n",
    "d.setdefault(5, 'D')\n",
    "\n"
   ]
  },
  {
   "cell_type": "code",
   "execution_count": 152,
   "metadata": {},
   "outputs": [
    {
     "data": {
      "text/plain": [
       "{2: 'stud2', 'avgage': 30, 3: 'stud3'}"
      ]
     },
     "execution_count": 152,
     "metadata": {},
     "output_type": "execute_result"
    }
   ],
   "source": []
  },
  {
   "cell_type": "code",
   "execution_count": null,
   "metadata": {},
   "outputs": [],
   "source": []
  }
 ],
 "metadata": {
  "interpreter": {
   "hash": "14a336a61cfaefff504b47e2b8e6e50961f0feafa7b211f8ff23081790c52144"
  },
  "kernelspec": {
   "display_name": "Python 3.9.7 64-bit",
   "name": "python3"
  },
  "language_info": {
   "codemirror_mode": {
    "name": "ipython",
    "version": 3
   },
   "file_extension": ".py",
   "mimetype": "text/x-python",
   "name": "python",
   "nbconvert_exporter": "python",
   "pygments_lexer": "ipython3",
   "version": "3.9.7"
  },
  "orig_nbformat": 4
 },
 "nbformat": 4,
 "nbformat_minor": 2
}
