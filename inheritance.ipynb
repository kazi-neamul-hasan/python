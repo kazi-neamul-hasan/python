{
 "cells": [
  {
   "cell_type": "code",
   "execution_count": 6,
   "metadata": {},
   "outputs": [],
   "source": [
    "## Inheritance:\n",
    "class phone:\n",
    "    \n",
    "    def call(self):\n",
    "        print('You can call')\n",
    "    \n",
    "    def message(self):\n",
    "        print('You can message')\n",
    "\n",
    "class realme(phone): # we call parent class phone to the child class realme\n",
    "\n",
    "    def photo(self):\n",
    "        print('Your can take photo')\n",
    "        "
   ]
  },
  {
   "cell_type": "code",
   "execution_count": 11,
   "metadata": {},
   "outputs": [
    {
     "name": "stdout",
     "output_type": "stream",
     "text": [
      "You can message\n",
      "You can call\n",
      "Your can take photo\n"
     ]
    },
    {
     "data": {
      "text/plain": [
       "True"
      ]
     },
     "execution_count": 11,
     "metadata": {},
     "output_type": "execute_result"
    }
   ],
   "source": [
    "r = realme()\n",
    "r.message()\n",
    "r.call()\n",
    "r.photo()\n",
    "issubclass(realme, phone)"
   ]
  },
  {
   "cell_type": "code",
   "execution_count": 9,
   "metadata": {},
   "outputs": [
    {
     "name": "stdout",
     "output_type": "stream",
     "text": [
      "You can call\n",
      "You can message\n"
     ]
    }
   ],
   "source": [
    "p = phone()\n",
    "p.call()\n",
    "p.message()"
   ]
  }
 ],
 "metadata": {
  "interpreter": {
   "hash": "14a336a61cfaefff504b47e2b8e6e50961f0feafa7b211f8ff23081790c52144"
  },
  "kernelspec": {
   "display_name": "Python 3.9.7 64-bit",
   "name": "python3"
  },
  "language_info": {
   "codemirror_mode": {
    "name": "ipython",
    "version": 3
   },
   "file_extension": ".py",
   "mimetype": "text/x-python",
   "name": "python",
   "nbconvert_exporter": "python",
   "pygments_lexer": "ipython3",
   "version": "3.9.7"
  },
  "orig_nbformat": 4
 },
 "nbformat": 4,
 "nbformat_minor": 2
}
