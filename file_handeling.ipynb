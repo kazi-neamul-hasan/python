{
 "cells": [
  {
   "cell_type": "code",
   "execution_count": null,
   "metadata": {},
   "outputs": [],
   "source": [
    "## File Creation and Writing File\n",
    "# write\n",
    "\n",
    "f = open('file.txt', mode='w')\n",
    "f.writable()\n",
    "f.write('Machine Learning')\n",
    "f.write('\\nDeep Learning')\n",
    "f.writelines(['\\n1','2', '3', '4', '5'])\n",
    "print(f.closed)\n",
    "f.close()\n",
    "f.closed\n",
    "\n"
   ]
  },
  {
   "cell_type": "code",
   "execution_count": null,
   "metadata": {},
   "outputs": [],
   "source": [
    "# appened\n",
    "\n",
    "f = open('file.txt', mode='a')\n",
    "f.write('\\nData')\n",
    "f.close()"
   ]
  },
  {
   "cell_type": "code",
   "execution_count": null,
   "metadata": {},
   "outputs": [],
   "source": [
    "#  Exclusive\n",
    "f = open('file1.txt', mode='x') # Exclusive mode: existing data not override\n",
    "f.write('\\nData')\n",
    "f.close()"
   ]
  },
  {
   "cell_type": "code",
   "execution_count": null,
   "metadata": {},
   "outputs": [],
   "source": [
    "# Read\n",
    "f = open('file.txt', mode='r') \n",
    "print(f.readable())\n",
    "print(f.read())\n",
    "f.close()"
   ]
  },
  {
   "cell_type": "code",
   "execution_count": null,
   "metadata": {},
   "outputs": [],
   "source": [
    "# Read and Binary mode\n",
    "f = open('file.txt', mode='rb') \n",
    "print(f.readable())\n",
    "print(f.read())\n",
    "f.close()"
   ]
  },
  {
   "cell_type": "code",
   "execution_count": null,
   "metadata": {},
   "outputs": [],
   "source": [
    "# Read mode and limiting to show the line/character\n",
    "f = open('file.txt', mode='r') \n",
    "print(f.readable())\n",
    "#print(f.read())\n",
    "#print(f.readline(12))\n",
    "#print(f.readlines(2))\n",
    "f.seek(5)\n",
    "print(f.read())\n",
    "print(f.tell())\n",
    "f.close()"
   ]
  },
  {
   "cell_type": "code",
   "execution_count": null,
   "metadata": {},
   "outputs": [],
   "source": [
    "# Binary mode \n",
    "f = open('file.txt', mode='wb')\n",
    "f.writable()\n",
    "f.write(b'Machine Learning')\n",
    "f.write(b'Deep Learning') # Binary mode does not take new line\n",
    "f.writelines([b'n1', b'2', b'3', b'4', b'5'])\n",
    "print(f.closed)\n",
    "f.close()\n",
    "f.closed\n"
   ]
  },
  {
   "cell_type": "code",
   "execution_count": null,
   "metadata": {},
   "outputs": [],
   "source": [
    "# Read and Binary mode\n",
    "f = open('file.txt', mode='r+') # r+ means  r+w but not data removed, append data \n",
    "print(f.readable())\n",
    "print(f.read())\n",
    "f.write('This file read with write')\n",
    "print(f.read())\n",
    "f.close()"
   ]
  },
  {
   "cell_type": "code",
   "execution_count": null,
   "metadata": {},
   "outputs": [],
   "source": [
    "# File opening with session as best practice\n",
    "\n",
    "with open('file.txt', mode='r+') as f:\n",
    "    print(f.read())\n",
    "f.closed"
   ]
  },
  {
   "cell_type": "code",
   "execution_count": null,
   "metadata": {},
   "outputs": [],
   "source": [
    "# Delete files\n",
    "import os # import os library to interact with python\n"
   ]
  },
  {
   "cell_type": "code",
   "execution_count": null,
   "metadata": {},
   "outputs": [],
   "source": [
    "# Getting current location or path\n",
    "os.getlogin()\n",
    "os.getcwd()"
   ]
  },
  {
   "cell_type": "code",
   "execution_count": null,
   "metadata": {},
   "outputs": [],
   "source": [
    "os.chdir('f:\\\\python\\\\github_repository_location')"
   ]
  },
  {
   "cell_type": "code",
   "execution_count": null,
   "metadata": {},
   "outputs": [],
   "source": [
    "os.getcwd()"
   ]
  },
  {
   "cell_type": "code",
   "execution_count": null,
   "metadata": {},
   "outputs": [],
   "source": [
    "os.chdir('f:\\\\python\\\\github_repository_location\\\\python')"
   ]
  },
  {
   "cell_type": "code",
   "execution_count": null,
   "metadata": {},
   "outputs": [],
   "source": [
    "os.getcwd()\n",
    "os.chdir('..')\n",
    "os.getcwd()"
   ]
  },
  {
   "cell_type": "code",
   "execution_count": null,
   "metadata": {},
   "outputs": [],
   "source": [
    "os.chdir('f:\\\\python\\\\github_repository_location\\\\python')\n",
    "os.getcwd()"
   ]
  },
  {
   "cell_type": "code",
   "execution_count": null,
   "metadata": {},
   "outputs": [],
   "source": [
    "# create folder\n",
    "os.mkdir('New1')"
   ]
  },
  {
   "cell_type": "code",
   "execution_count": null,
   "metadata": {},
   "outputs": [],
   "source": [
    "os.mkdir('New1\\\\NewUnder')"
   ]
  },
  {
   "cell_type": "code",
   "execution_count": null,
   "metadata": {},
   "outputs": [],
   "source": [
    "# Create recursively\n",
    "os.makedirs('New4\\\\NewUnder')"
   ]
  },
  {
   "cell_type": "code",
   "execution_count": null,
   "metadata": {},
   "outputs": [],
   "source": [
    "# rename file\n",
    "os.rename('New1\\\\NewUnder', 'NewUnder-1')\n"
   ]
  },
  {
   "cell_type": "code",
   "execution_count": null,
   "metadata": {},
   "outputs": [],
   "source": [
    "# rename folder\n",
    "os.rename('file1.txt', 'file2.txt')"
   ]
  },
  {
   "cell_type": "code",
   "execution_count": null,
   "metadata": {},
   "outputs": [],
   "source": [
    "# remove file \n",
    "os.remove('file2.txt')"
   ]
  },
  {
   "cell_type": "code",
   "execution_count": null,
   "metadata": {},
   "outputs": [],
   "source": [
    "# remove folder\n",
    "# os.rmdir('New4') # Since folder not empty, it will not allow to remvoe\n",
    "os.removedirs('New4\\\\NewUnder') # ensure the path. without full path, all the folders not be deleted\n"
   ]
  },
  {
   "cell_type": "code",
   "execution_count": null,
   "metadata": {},
   "outputs": [],
   "source": [
    "# showing file and folder\n",
    "os.listdir() # showing the folder but not subfolder"
   ]
  },
  {
   "cell_type": "code",
   "execution_count": null,
   "metadata": {},
   "outputs": [],
   "source": [
    "# showing subfolder using for loop\n",
    "for p, d, f in os.walk('.'):\n",
    "    print('Path', p, 'Dirs', d, 'Files', f)"
   ]
  },
  {
   "cell_type": "code",
   "execution_count": 121,
   "metadata": {},
   "outputs": [],
   "source": [
    "# convert csv file from text file\n",
    "data = [\n",
    "    [1, 'John', 'CSE'],\n",
    "    [2, 'Alexa', 'CSE']\n",
    "]\n",
    "\n",
    "header = ['Roll', 'Name', 'Branch']\n",
    "\n",
    "\n"
   ]
  },
  {
   "cell_type": "code",
   "execution_count": 126,
   "metadata": {},
   "outputs": [],
   "source": [
    "import csv\n",
    "with open('students.csv', mode='w', newline='') as f:\n",
    "    writer = csv.writer(f, delimiter='\\t')\n",
    "    writer.writerow(header)\n",
    "    writer.writerows(data)"
   ]
  },
  {
   "cell_type": "code",
   "execution_count": 127,
   "metadata": {},
   "outputs": [
    {
     "name": "stdout",
     "output_type": "stream",
     "text": [
      "['Roll\\tName\\tBranch']\n",
      "['1\\tJohn\\tCSE']\n",
      "['2\\tAlexa\\tCSE']\n"
     ]
    }
   ],
   "source": [
    "# open csv file:\n",
    "with open('students.csv', mode='r', newline='') as f:\n",
    "    reader = csv.reader(f, delimiter='@')\n",
    "    for row in reader:\n",
    "        print(row)"
   ]
  }
 ],
 "metadata": {
  "interpreter": {
   "hash": "14a336a61cfaefff504b47e2b8e6e50961f0feafa7b211f8ff23081790c52144"
  },
  "kernelspec": {
   "display_name": "Python 3.9.7 64-bit",
   "name": "python3"
  },
  "language_info": {
   "codemirror_mode": {
    "name": "ipython",
    "version": 3
   },
   "file_extension": ".py",
   "mimetype": "text/x-python",
   "name": "python",
   "nbconvert_exporter": "python",
   "pygments_lexer": "ipython3",
   "version": "3.9.7"
  },
  "orig_nbformat": 4
 },
 "nbformat": 4,
 "nbformat_minor": 2
}
