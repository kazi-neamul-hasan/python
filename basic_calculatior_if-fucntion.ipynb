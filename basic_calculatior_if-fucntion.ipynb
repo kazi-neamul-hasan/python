{
 "cells": [
  {
   "cell_type": "code",
   "execution_count": null,
   "metadata": {},
   "outputs": [],
   "source": [
    "#calculator\n",
    "print(\"Select an operation to perform :\")\n",
    "print(\"1. ADD\")\n",
    "print(\"2. SUBTRACT\")\n",
    "print(\"3. MULTIPLY\")\n",
    "print(\"4. DIVIDE\")\n",
    "print(\"5. POWER\")\n",
    "print(\"6. REMINDER\")\n",
    "print(\"7. EXIT\")\n",
    "\n",
    "select = input(\"Select what you perform: \")\n",
    "\n",
    "num1 = int(input(\"Enter a number 1: \"))\n",
    "num2 = int(input(\"Enter a number 2 : \"))\n",
    "\n",
    "## ADD\n",
    "\n",
    "if select == \"1\":\n",
    "    print(\"The sum is:\", num1, \"+\", num2, \"=\" ,num1+num2)\n",
    "elif select == \"2\":\n",
    "    print(\"The sum is:\", num1, \"-\", num2, \"=\" ,num1-num2)\n",
    "elif select == \"3\":\n",
    "    print(\"The sum is:\", num1, \"*\", num2, \"=\" ,num1*num2)\n",
    "elif select == \"4\":\n",
    "    print(\"The sum is:\", num1, \"/\", num2, \"=\" ,num1/num2)\n",
    "elif select == \"5\":\n",
    "    print(\"The sum is:\", num1, \"Power of\", num2, \"=\" ,num1**num2)\n",
    "elif select == \"6\":\n",
    "    print(\"The sum is:\", num1, \"Reminder of\", num2, \"=\" ,num1%num2)\n",
    "else:\n",
    "    print(\"You have entered invalid number\")\n"
   ]
  },
  {
   "cell_type": "code",
   "execution_count": null,
   "metadata": {},
   "outputs": [],
   "source": []
  }
 ],
 "metadata": {
  "interpreter": {
   "hash": "14a336a61cfaefff504b47e2b8e6e50961f0feafa7b211f8ff23081790c52144"
  },
  "kernelspec": {
   "display_name": "Python 3.9.7 64-bit",
   "name": "python3"
  },
  "language_info": {
   "codemirror_mode": {
    "name": "ipython",
    "version": 3
   },
   "file_extension": ".py",
   "mimetype": "text/x-python",
   "name": "python",
   "nbconvert_exporter": "python",
   "pygments_lexer": "ipython3",
   "version": "3.9.7"
  },
  "orig_nbformat": 4
 },
 "nbformat": 4,
 "nbformat_minor": 2
}
