{
 "cells": [
  {
   "cell_type": "code",
   "execution_count": null,
   "source": [
    "#calculator\r\n",
    "print(\"Select an operation to perform :\")\r\n",
    "print(\"1. ADD\")\r\n",
    "print(\"2. SUBTRACT\")\r\n",
    "print(\"3. MULTIPLY\")\r\n",
    "print(\"4. DIVIDE\")\r\n",
    "print(\"5. POWER\")\r\n",
    "print(\"6. REMINDER\")\r\n",
    "print(\"7. EXIT\")\r\n",
    "\r\n",
    "select = input(\"Select what you perform: \")\r\n",
    "\r\n",
    "num1 = int(input(\"Enter a number 1: \"))\r\n",
    "num2 = int(input(\"Enter a number 2 : \"))\r\n",
    "\r\n",
    "## ADD\r\n",
    "\r\n",
    "if select == \"1\":\r\n",
    "    print(\"The sum is:\", num1, \"+\", num2, \"=\" ,num1+num2)\r\n",
    "elif select == \"2\":\r\n",
    "    print(\"The sum is:\", num1, \"-\", num2, \"=\" ,num1-num2)\r\n",
    "elif select == \"3\":\r\n",
    "    print(\"The sum is:\", num1, \"*\", num2, \"=\" ,num1*num2)\r\n",
    "elif select == \"4\":\r\n",
    "    print(\"The sum is:\", num1, \"/\", num2, \"=\" ,num1/num2)\r\n",
    "elif select == \"5\":\r\n",
    "    print(\"The sum is:\", num1, \"Power of\", num2, \"=\" ,num1**num2)\r\n",
    "elif select == \"6\":\r\n",
    "    print(\"The sum is:\", num1, \"Reminder of\", num2, \"=\" ,num1%num2)\r\n",
    "else:\r\n",
    "    print(\"You have entered invalid number\")\r\n"
   ],
   "outputs": [],
   "metadata": {}
  },
  {
   "cell_type": "code",
   "execution_count": null,
   "source": [],
   "outputs": [],
   "metadata": {}
  }
 ],
 "metadata": {
  "orig_nbformat": 4,
  "language_info": {
   "name": "python",
   "version": "3.9.7",
   "mimetype": "text/x-python",
   "codemirror_mode": {
    "name": "ipython",
    "version": 3
   },
   "pygments_lexer": "ipython3",
   "nbconvert_exporter": "python",
   "file_extension": ".py"
  },
  "kernelspec": {
   "name": "python3",
   "display_name": "Python 3.9.7 64-bit"
  },
  "interpreter": {
   "hash": "14a336a61cfaefff504b47e2b8e6e50961f0feafa7b211f8ff23081790c52144"
  }
 },
 "nbformat": 4,
 "nbformat_minor": 2
}